{
    "cells": [
        {
            "metadata": {
                "collapsed": true
            },
            "cell_type": "markdown",
            "source": "# My Jupyter Notebook on IBM Watson Studio"
        },
        {
            "metadata": {},
            "cell_type": "markdown",
            "source": "**Tim Skates**\n\nData Analyst"
        },
        {
            "metadata": {},
            "cell_type": "markdown",
            "source": "*I am interested in Data Science because I love discovering solutions to problems. I like being able to take information and figuring out what it means and then explaining this to other people. I also like how data analysis is utilized in so many different fields.*"
        },
        {
            "metadata": {},
            "cell_type": "markdown",
            "source": "### My code is supposed to help kindergartners with math..."
        },
        {
            "metadata": {},
            "cell_type": "code",
            "source": "1 + 2 + 3 ",
            "execution_count": 9,
            "outputs": [
                {
                    "output_type": "execute_result",
                    "execution_count": 9,
                    "data": {
                        "text/plain": "6"
                    },
                    "metadata": {}
                }
            ]
        },
        {
            "metadata": {},
            "cell_type": "markdown",
            "source": "~~I am showing you strikethrough, horizontal rule and an image.~~\n\n\n***\n\n![alt text](https://clipartion.com/wp-content/uploads/2015/11/owl-book-clipart-free-clip-art-images-830x1191.png)"
        }
    ],
    "metadata": {
        "kernelspec": {
            "name": "python3",
            "display_name": "Python 3.6",
            "language": "python"
        },
        "language_info": {
            "name": "python",
            "version": "3.6.9",
            "mimetype": "text/x-python",
            "codemirror_mode": {
                "name": "ipython",
                "version": 3
            },
            "pygments_lexer": "ipython3",
            "nbconvert_exporter": "python",
            "file_extension": ".py"
        }
    },
    "nbformat": 4,
    "nbformat_minor": 1
}